{
 "cells": [
  {
   "cell_type": "markdown",
   "metadata": {},
   "source": [
    "# InfOli Task Submission and Gathering"
   ]
  },
  {
   "cell_type": "code",
   "execution_count": 1,
   "metadata": {},
   "outputs": [],
   "source": [
    "import subprocess\n",
    "import time\n",
    "import random\n",
    "import matplotlib.pyplot as plt\n",
    "import numpy as np\n",
    "import csv\n",
    "import os\n",
    "import pickle as pkl\n",
    "from IPython.display import clear_output"
   ]
  },
  {
   "cell_type": "markdown",
   "metadata": {},
   "source": [
    "This notebook defines a script that runs the InfOli applictation within Docker containers. It is designed to run all these simulations serially and gather information about the execution time.\n",
    "\n",
    "The simulations are instances of the `infoliTask` class. The constructor method takes the following arguments:\n",
    "* `neurons`: the size of the network (nr. of neurons), which has to be a positive integer.\n",
    "* `connectivity`: the connectivity. Has to be a float in the range [0,1]\n",
    "* `simTime`: simulation time in s. Has to be a positive float\n",
    "* `memory`: allocated memory in megabytes. Has to be a positive integer.\n",
    "* `cpu`: number of CPU cores allocated. This has to be a positive float.\n",
    "* `timeout`: Timeout parameter in s. If the simulation runs for longer than this, it is killed.\n",
    "\n",
    "The task can be executed with the `runTask()` method. After the task is executed (successfully or not), the results are written to the object variables, and can be accesssed with the `getData()` method, which returns a dictionary object. Other methods are:\n",
    "* `hasFinished()`: check if the simulation has been performed (returns boolean)\n",
    "* `hasTimeout()`: check if the simulation ended in a timeout (returns boolean, `False` when the simulation has not been run yet).\n",
    "\n",
    "The class also makes use of the following constants:\n",
    "* `VERBOSE`: The methods will print output if this parameter is set to `True`\n",
    "* `RERUN`: If set to `True`, the `runTask()` method perform the simulation even if this has been done before, overwriting the old results. If set to `False`, the `runTask()` method won't do anyting if `hasFinished()` returns `True`.\n",
    "\n",
    "The dictionary object returned by `runTask()` has the following structure:\n",
    "* `parameters` : contains a dictionary with all the parameters that were set up in the constructor\n",
    "* `results` : contains a dictionary with the following data:\n",
    " * `hasExecuted` : boolean, indicating whether an execution has taken place (successfully or not)\n",
    " * `setupTime` : setup time, as measured by the application itself\n",
    " * `execTime` : execution time, as mesaured by the application itself\n",
    " * `startTime` : start time of the simulation (seconds, Unix time), as measured by this script\n",
    " * `endTime` : end time of the simulation (seconds, Unix time), as measured by this script\n",
    " * `measureTime` : duration of the simulation in seconds, as measured by the script. A bit higher than `setupTime`+`execTime`, as the overhead of the Docker container is also measured.\n",
    " * `hasEndedInTimeout` : boolean, indicating whether the execution has ended in timeout.\n",
    " \n",
    "The dictionary can also be written to a CSV file with the method `writeToCSV(filename)`. The argument `filename` is a string with the name of the CSV file (without the .csv extension). If the file already exists, the data is just added. The structure of the dictionary is flattened before it is written to the CSV file, with each second-level entry having its own column.\n",
    "\n",
    "The following constants are used when running simulations:\n",
    "* `LOADTASKLIST` : if `True`, the list of tasks is loaded from the file defined by `pklFile`, overwriting the task list that was generated earlier. Since the task list is saved to `pklFile` after every execution (regardless of this parameters), this is useful in the case that the notebook crashes during simulation.\n",
    "* `csvFileName` : filename of the CSV file (excluding .csv extension) to write results to.\n",
    "* `pklFile` : filename of the pickle file the task list will be written to / read from."
   ]
  },
  {
   "cell_type": "code",
   "execution_count": 2,
   "metadata": {},
   "outputs": [],
   "source": [
    "VERBOSE = False;\n",
    "RERUN = True;\n",
    "LOADTASKLIST = True;\n",
    "csvFileName = \"myResults\"\n",
    "pklFile = \"myTasklist.dat\""
   ]
  },
  {
   "cell_type": "code",
   "execution_count": 3,
   "metadata": {},
   "outputs": [],
   "source": [
    "class infoliTask():\n",
    "    def __init__(self, neurons=1000,connectivity=0.01,simTime=0.00001,memory=1024,cpu=1.0,timeout=86400):\n",
    "        if VERBOSE:\n",
    "            print(\"Creating task...\")\n",
    "        if neurons < 1:\n",
    "            raise ValueError(\"Number of neurons must be at least 1\")\n",
    "        if connectivity < 0 or connectivity > 1:\n",
    "            raise ValueError(\"Connectivity must lie within range [0,1]\")\n",
    "        if simTime <= 0:\n",
    "            raise ValueError(\"simTime has to be larger than 0\")\n",
    "        if memory <= 0:\n",
    "            raise ValueError(\"Memory must be larger than 0 MB\")\n",
    "        if cpu <= 0:\n",
    "            raise ValueError(\"Number of CPUs must be a number larger than 0\")\n",
    "        if timeout < 0:\n",
    "            raise ValueError(\"Timout must be either 0 (no timeout defined) or a positive number.\")\n",
    "        self.__simTime = simTime;\n",
    "        self.__connectivity = connectivity;\n",
    "        self.__neurons = int(neurons);\n",
    "        self.__memory = int(memory);\n",
    "        self.__CPU = cpu;\n",
    "        self.__timeout = int(timeout);\n",
    "        self.__setupTime = 0.0;\n",
    "        self.__execTime = 0.0;\n",
    "        self.__startExec = 0.0;\n",
    "        self.__endExec = 0.0;\n",
    "        self.__measTime = 0.0;\n",
    "        self.__executed = False;\n",
    "        self.__endedInTimeout = False;\n",
    "        self.__endedInError = False;\n",
    "        if VERBOSE:\n",
    "            print(\"Created task with neurons={0:d}, connectivity={1:f}, simTime={2:f}, memory={3:d}MB, CPU = {4:f}, timeout={5:d}s\"\n",
    "              .format(self.__neurons,self.__connectivity,self.__simTime, self.__memory,self.__CPU,self.__timeout))\n",
    "    def hasFinished(self):\n",
    "        if VERBOSE:\n",
    "            if self.__executed:\n",
    "                print(\"This task has been executed.\")\n",
    "            else:\n",
    "                print(\"This task has not yet been executed.\")\n",
    "        return self.__executed;\n",
    "    def hasTimeout(self):\n",
    "        if VERBOSE:\n",
    "            if self.__endedInTimeout:\n",
    "                print(\"This task ended in a timeout.\")\n",
    "            else:\n",
    "                print(\"This task did not (yet) end in a timeout.\")\n",
    "        return self.__endedInTimeout;\n",
    "    def getData(self):\n",
    "        thisDict = {\n",
    "            \"parameters\": {\"simTime\" : self.__simTime,\n",
    "                           \"connectivity\" : self.__connectivity,\n",
    "                           \"neurons\" : self.__neurons,\n",
    "                           \"memory\" : self.__memory,\n",
    "                           \"CPU\" : self.__CPU,\n",
    "                           \"timeout\" : self.__timeout},\n",
    "            \"results\" : {\"hasExecuted\"  : self.__executed,\n",
    "                         \"setupTime\" : self.__setupTime,\n",
    "                         \"execTime\" : self.__execTime,\n",
    "                         \"startTime\" : self.__startExec,\n",
    "                         \"endTime\" : self.__endExec,\n",
    "                         \"measureTime\" : self.__measTime,\n",
    "                         \"hasEndedInTimeout\" : self.__endedInTimeout,\n",
    "                         \"hasEndedInError\" : self.__endedInError}\n",
    "        }\n",
    "        return thisDict;\n",
    "    def runTask(self,rerun=False):\n",
    "        if self.__executed:\n",
    "            if not RERUN:\n",
    "                if VERBOSE:\n",
    "                    print(\"This task was executed before, and will not be executed again.\")\n",
    "                return;\n",
    "            else:\n",
    "                if VERBOSE:\n",
    "                    print(\"This task was executed before, but will be executed again, erasing the old result.\")\n",
    "        if VERBOSE:\n",
    "            print(\"Starting run of task...\")\n",
    "        command = [\"sudo\", \"docker\", \"run\", \n",
    "                       \"-e\", \"infoliNrNeurons={}\".format(self.__neurons),\n",
    "                       \"-e\", \"infoliSimTime={}\".format(self.__simTime),\n",
    "                       \"-e\", \"infoliConn={}\".format(self.__connectivity),\n",
    "                       \"-e\", \"nrCores={}\".format(self.__CPU),\n",
    "                       \"-e\", \"timeLimit={}\".format(self.__timeout),\n",
    "                       \"--cpus={}\".format(self.__CPU),\n",
    "                       \"--memory={}m\".format(self.__memory),\n",
    "                       \"jlfbetting/infoli_docker:002\"]\n",
    "        self.__startExec = time.time()\n",
    "        result = subprocess.run(command, stdout=subprocess.PIPE)\n",
    "        self.__endExec = time.time()\n",
    "        self.__measTime = self.__endExec-self.__startExec;\n",
    "        myResult = result.stdout.decode('utf-8')\n",
    "        self.__executed = True\n",
    "        if not (myResult.find(\"NOTIMEOUT\") > -1):\n",
    "            self.__endedInTimeout = True;\n",
    "            if VERBOSE:\n",
    "                print(\"Execution ended in timeout!\")\n",
    "        else:\n",
    "            try:\n",
    "                self.__endedInTimeout = False;\n",
    "                value = myResult.find(\"\\nSetup:\")+8\n",
    "                firstCut = myResult[value:]\n",
    "                value = firstCut.find(\" Run: \")\n",
    "                self.__setupTime = float(firstCut[0:value])\n",
    "                firstCut = firstCut[value+6:]\n",
    "                value = firstCut.find(\" \\nPeak\");\n",
    "                self.__execTime = float(firstCut[:value]);\n",
    "                self.__endedInError = False;\n",
    "                if VERBOSE:\n",
    "                    print(\"Execution successful!\")\n",
    "            except:\n",
    "                if VERBOSE:\n",
    "                    print(\"ERROR\")\n",
    "                self.__endedInTimeout = False;\n",
    "                self.__endedInError = True;\n",
    "        return myResult;\n",
    "    def writeToCSV(self, filename):\n",
    "        myData = self.getData()\n",
    "        d1 = myData['parameters']\n",
    "        d1.update(myData['results'])\n",
    "        csv_columns = [k for k in d1.keys()];\n",
    "        file_exists = os.path.isfile(filename + '.csv')\n",
    "        with open(filename + '.csv', 'a') as csvfile:\n",
    "            writer = csv.DictWriter(csvfile, fieldnames=csv_columns)\n",
    "            if not file_exists:\n",
    "                writer.writeheader()\n",
    "            writer.writerow(d1)"
   ]
  },
  {
   "cell_type": "markdown",
   "metadata": {},
   "source": [
    "Below, I'm setting up the parameters for the search space. `rangeNeurons` and `rangeConn` have a range, and when we're running the simulations, a random value in this range will be picked as a parameters. The other parameters remain constant. As for `simTime`, I first gave the number of time steps I wanted, and then multiplied it with the timestep, in order to get the right value. "
   ]
  },
  {
   "cell_type": "code",
   "execution_count": 4,
   "metadata": {},
   "outputs": [],
   "source": [
    "timeOut = 4*60*60 # four hours\n",
    "rangeNeurons = [100,10000]\n",
    "rangeConn = [0.01,1];\n",
    "genMem = 4*1024;\n",
    "genCPU = 4;\n",
    "simTime = 3000;\n",
    "nrOfTasks = 10000;\n",
    "simTime *= 0.000001 # time to timestep"
   ]
  },
  {
   "cell_type": "markdown",
   "metadata": {},
   "source": [
    "Below, we're generating a list of tasks. The tasks are not run yet, just the parameters are generated and the task is added to the list."
   ]
  },
  {
   "cell_type": "code",
   "execution_count": 5,
   "metadata": {},
   "outputs": [],
   "source": [
    "listOfTasks = [];\n",
    "for i in range(nrOfTasks):\n",
    "    genNeurons = random.uniform(rangeNeurons[0], rangeNeurons[1]);\n",
    "    genConn = random.uniform(rangeConn[0], rangeConn[1]);\n",
    "    listOfTasks.append(infoliTask(neurons=genNeurons,connectivity=genConn,simTime=simTime,memory=genMem,cpu=genCPU,timeout=timeOut))"
   ]
  },
  {
   "cell_type": "markdown",
   "metadata": {},
   "source": [
    "Below, if `LOADTASKLIST` is True and the file exists, it is loaded and saved as `listOfTasks`, overwriting the variable created earlier."
   ]
  },
  {
   "cell_type": "code",
   "execution_count": 7,
   "metadata": {},
   "outputs": [],
   "source": [
    "if os.path.isfile(pklFile) and LOADTASKLIST:\n",
    "    with open(pklFile, \"rb\") as f:\n",
    "        listOfTasks = pkl.load(f)"
   ]
  },
  {
   "cell_type": "markdown",
   "metadata": {},
   "source": [
    "The histogram below shows whether the distribution of the `connectivity` parameter is uniform by plotting it."
   ]
  },
  {
   "cell_type": "code",
   "execution_count": null,
   "metadata": {},
   "outputs": [],
   "source": [
    "plt.hist([task.getData()['parameters']['connectivity'] for task in listOfTasks],bins=np.arange(100)/100);"
   ]
  },
  {
   "cell_type": "markdown",
   "metadata": {},
   "source": [
    "The code below does the real work: the tasks are executed serially. After execution (whether successful or not), the output values are written to a CSV file. Executing this cell probably takes a really long time, it gives output after each task."
   ]
  },
  {
   "cell_type": "code",
   "execution_count": 8,
   "metadata": {},
   "outputs": [
    {
     "ename": "PermissionError",
     "evalue": "[Errno 1] Operation not permitted",
     "output_type": "error",
     "traceback": [
      "\u001b[0;31m---------------------------------------------------------------------------\u001b[0m",
      "\u001b[0;31mKeyboardInterrupt\u001b[0m                         Traceback (most recent call last)",
      "\u001b[0;32m~/anaconda3/lib/python3.7/subprocess.py\u001b[0m in \u001b[0;36mrun\u001b[0;34m(input, capture_output, timeout, check, *popenargs, **kwargs)\u001b[0m\n\u001b[1;32m    473\u001b[0m         \u001b[0;32mtry\u001b[0m\u001b[0;34m:\u001b[0m\u001b[0;34m\u001b[0m\u001b[0;34m\u001b[0m\u001b[0m\n\u001b[0;32m--> 474\u001b[0;31m             \u001b[0mstdout\u001b[0m\u001b[0;34m,\u001b[0m \u001b[0mstderr\u001b[0m \u001b[0;34m=\u001b[0m \u001b[0mprocess\u001b[0m\u001b[0;34m.\u001b[0m\u001b[0mcommunicate\u001b[0m\u001b[0;34m(\u001b[0m\u001b[0minput\u001b[0m\u001b[0;34m,\u001b[0m \u001b[0mtimeout\u001b[0m\u001b[0;34m=\u001b[0m\u001b[0mtimeout\u001b[0m\u001b[0;34m)\u001b[0m\u001b[0;34m\u001b[0m\u001b[0;34m\u001b[0m\u001b[0m\n\u001b[0m\u001b[1;32m    475\u001b[0m         \u001b[0;32mexcept\u001b[0m \u001b[0mTimeoutExpired\u001b[0m\u001b[0;34m:\u001b[0m\u001b[0;34m\u001b[0m\u001b[0;34m\u001b[0m\u001b[0m\n",
      "\u001b[0;32m~/anaconda3/lib/python3.7/subprocess.py\u001b[0m in \u001b[0;36mcommunicate\u001b[0;34m(self, input, timeout)\u001b[0m\n\u001b[1;32m    925\u001b[0m             \u001b[0;32melif\u001b[0m \u001b[0mself\u001b[0m\u001b[0;34m.\u001b[0m\u001b[0mstdout\u001b[0m\u001b[0;34m:\u001b[0m\u001b[0;34m\u001b[0m\u001b[0;34m\u001b[0m\u001b[0m\n\u001b[0;32m--> 926\u001b[0;31m                 \u001b[0mstdout\u001b[0m \u001b[0;34m=\u001b[0m \u001b[0mself\u001b[0m\u001b[0;34m.\u001b[0m\u001b[0mstdout\u001b[0m\u001b[0;34m.\u001b[0m\u001b[0mread\u001b[0m\u001b[0;34m(\u001b[0m\u001b[0;34m)\u001b[0m\u001b[0;34m\u001b[0m\u001b[0;34m\u001b[0m\u001b[0m\n\u001b[0m\u001b[1;32m    927\u001b[0m                 \u001b[0mself\u001b[0m\u001b[0;34m.\u001b[0m\u001b[0mstdout\u001b[0m\u001b[0;34m.\u001b[0m\u001b[0mclose\u001b[0m\u001b[0;34m(\u001b[0m\u001b[0;34m)\u001b[0m\u001b[0;34m\u001b[0m\u001b[0;34m\u001b[0m\u001b[0m\n",
      "\u001b[0;31mKeyboardInterrupt\u001b[0m: ",
      "\nDuring handling of the above exception, another exception occurred:\n",
      "\u001b[0;31mPermissionError\u001b[0m                           Traceback (most recent call last)",
      "\u001b[0;32m<ipython-input-8-03fd825a6c44>\u001b[0m in \u001b[0;36m<module>\u001b[0;34m\u001b[0m\n\u001b[1;32m      4\u001b[0m     \u001b[0mpkl\u001b[0m\u001b[0;34m.\u001b[0m\u001b[0mdump\u001b[0m\u001b[0;34m(\u001b[0m\u001b[0mlistOfTasks\u001b[0m\u001b[0;34m,\u001b[0m \u001b[0mf\u001b[0m\u001b[0;34m)\u001b[0m\u001b[0;34m;\u001b[0m\u001b[0;34m\u001b[0m\u001b[0;34m\u001b[0m\u001b[0m\n\u001b[1;32m      5\u001b[0m \u001b[0;32mfor\u001b[0m \u001b[0mtask\u001b[0m \u001b[0;32min\u001b[0m \u001b[0mlistOfTasks\u001b[0m\u001b[0;34m:\u001b[0m\u001b[0;34m\u001b[0m\u001b[0;34m\u001b[0m\u001b[0m\n\u001b[0;32m----> 6\u001b[0;31m     \u001b[0mtask\u001b[0m\u001b[0;34m.\u001b[0m\u001b[0mrunTask\u001b[0m\u001b[0;34m(\u001b[0m\u001b[0mrerun\u001b[0m\u001b[0;34m=\u001b[0m\u001b[0;32mFalse\u001b[0m\u001b[0;34m)\u001b[0m\u001b[0;34m;\u001b[0m\u001b[0;34m\u001b[0m\u001b[0;34m\u001b[0m\u001b[0m\n\u001b[0m\u001b[1;32m      7\u001b[0m     \u001b[0mtask\u001b[0m\u001b[0;34m.\u001b[0m\u001b[0mwriteToCSV\u001b[0m\u001b[0;34m(\u001b[0m\u001b[0mcsvFileName\u001b[0m\u001b[0;34m)\u001b[0m\u001b[0;34m\u001b[0m\u001b[0;34m\u001b[0m\u001b[0m\n\u001b[1;32m      8\u001b[0m     \u001b[0;32mwith\u001b[0m \u001b[0mopen\u001b[0m\u001b[0;34m(\u001b[0m\u001b[0mpklFile\u001b[0m\u001b[0;34m,\u001b[0m \u001b[0;34m\"wb\"\u001b[0m\u001b[0;34m)\u001b[0m \u001b[0;32mas\u001b[0m \u001b[0mf\u001b[0m\u001b[0;34m:\u001b[0m\u001b[0;34m\u001b[0m\u001b[0;34m\u001b[0m\u001b[0m\n",
      "\u001b[0;32m<ipython-input-3-712fa29cfb8b>\u001b[0m in \u001b[0;36mrunTask\u001b[0;34m(self, rerun)\u001b[0m\n\u001b[1;32m     85\u001b[0m                        \"jlfbetting/infoli_docker:002\"]\n\u001b[1;32m     86\u001b[0m         \u001b[0mself\u001b[0m\u001b[0;34m.\u001b[0m\u001b[0m__startExec\u001b[0m \u001b[0;34m=\u001b[0m \u001b[0mtime\u001b[0m\u001b[0;34m.\u001b[0m\u001b[0mtime\u001b[0m\u001b[0;34m(\u001b[0m\u001b[0;34m)\u001b[0m\u001b[0;34m\u001b[0m\u001b[0;34m\u001b[0m\u001b[0m\n\u001b[0;32m---> 87\u001b[0;31m         \u001b[0mresult\u001b[0m \u001b[0;34m=\u001b[0m \u001b[0msubprocess\u001b[0m\u001b[0;34m.\u001b[0m\u001b[0mrun\u001b[0m\u001b[0;34m(\u001b[0m\u001b[0mcommand\u001b[0m\u001b[0;34m,\u001b[0m \u001b[0mstdout\u001b[0m\u001b[0;34m=\u001b[0m\u001b[0msubprocess\u001b[0m\u001b[0;34m.\u001b[0m\u001b[0mPIPE\u001b[0m\u001b[0;34m)\u001b[0m\u001b[0;34m\u001b[0m\u001b[0;34m\u001b[0m\u001b[0m\n\u001b[0m\u001b[1;32m     88\u001b[0m         \u001b[0mself\u001b[0m\u001b[0;34m.\u001b[0m\u001b[0m__endExec\u001b[0m \u001b[0;34m=\u001b[0m \u001b[0mtime\u001b[0m\u001b[0;34m.\u001b[0m\u001b[0mtime\u001b[0m\u001b[0;34m(\u001b[0m\u001b[0;34m)\u001b[0m\u001b[0;34m\u001b[0m\u001b[0;34m\u001b[0m\u001b[0m\n\u001b[1;32m     89\u001b[0m         \u001b[0mself\u001b[0m\u001b[0;34m.\u001b[0m\u001b[0m__measTime\u001b[0m \u001b[0;34m=\u001b[0m \u001b[0mself\u001b[0m\u001b[0;34m.\u001b[0m\u001b[0m__endExec\u001b[0m\u001b[0;34m-\u001b[0m\u001b[0mself\u001b[0m\u001b[0;34m.\u001b[0m\u001b[0m__startExec\u001b[0m\u001b[0;34m;\u001b[0m\u001b[0;34m\u001b[0m\u001b[0;34m\u001b[0m\u001b[0m\n",
      "\u001b[0;32m~/anaconda3/lib/python3.7/subprocess.py\u001b[0m in \u001b[0;36mrun\u001b[0;34m(input, capture_output, timeout, check, *popenargs, **kwargs)\u001b[0m\n\u001b[1;32m    479\u001b[0m                                  stderr=stderr)\n\u001b[1;32m    480\u001b[0m         \u001b[0;32mexcept\u001b[0m\u001b[0;34m:\u001b[0m  \u001b[0;31m# Including KeyboardInterrupt, communicate handled that.\u001b[0m\u001b[0;34m\u001b[0m\u001b[0;34m\u001b[0m\u001b[0m\n\u001b[0;32m--> 481\u001b[0;31m             \u001b[0mprocess\u001b[0m\u001b[0;34m.\u001b[0m\u001b[0mkill\u001b[0m\u001b[0;34m(\u001b[0m\u001b[0;34m)\u001b[0m\u001b[0;34m\u001b[0m\u001b[0;34m\u001b[0m\u001b[0m\n\u001b[0m\u001b[1;32m    482\u001b[0m             \u001b[0;31m# We don't call process.wait() as .__exit__ does that for us.\u001b[0m\u001b[0;34m\u001b[0m\u001b[0;34m\u001b[0m\u001b[0;34m\u001b[0m\u001b[0m\n\u001b[1;32m    483\u001b[0m             \u001b[0;32mraise\u001b[0m\u001b[0;34m\u001b[0m\u001b[0;34m\u001b[0m\u001b[0m\n",
      "\u001b[0;32m~/anaconda3/lib/python3.7/subprocess.py\u001b[0m in \u001b[0;36mkill\u001b[0;34m(self)\u001b[0m\n\u001b[1;32m   1754\u001b[0m             \"\"\"Kill the process with SIGKILL\n\u001b[1;32m   1755\u001b[0m             \"\"\"\n\u001b[0;32m-> 1756\u001b[0;31m             \u001b[0mself\u001b[0m\u001b[0;34m.\u001b[0m\u001b[0msend_signal\u001b[0m\u001b[0;34m(\u001b[0m\u001b[0msignal\u001b[0m\u001b[0;34m.\u001b[0m\u001b[0mSIGKILL\u001b[0m\u001b[0;34m)\u001b[0m\u001b[0;34m\u001b[0m\u001b[0;34m\u001b[0m\u001b[0m\n\u001b[0m",
      "\u001b[0;32m~/anaconda3/lib/python3.7/subprocess.py\u001b[0m in \u001b[0;36msend_signal\u001b[0;34m(self, sig)\u001b[0m\n\u001b[1;32m   1744\u001b[0m             \u001b[0;31m# Skip signalling a process that we know has already died.\u001b[0m\u001b[0;34m\u001b[0m\u001b[0;34m\u001b[0m\u001b[0;34m\u001b[0m\u001b[0m\n\u001b[1;32m   1745\u001b[0m             \u001b[0;32mif\u001b[0m \u001b[0mself\u001b[0m\u001b[0;34m.\u001b[0m\u001b[0mreturncode\u001b[0m \u001b[0;32mis\u001b[0m \u001b[0;32mNone\u001b[0m\u001b[0;34m:\u001b[0m\u001b[0;34m\u001b[0m\u001b[0;34m\u001b[0m\u001b[0m\n\u001b[0;32m-> 1746\u001b[0;31m                 \u001b[0mos\u001b[0m\u001b[0;34m.\u001b[0m\u001b[0mkill\u001b[0m\u001b[0;34m(\u001b[0m\u001b[0mself\u001b[0m\u001b[0;34m.\u001b[0m\u001b[0mpid\u001b[0m\u001b[0;34m,\u001b[0m \u001b[0msig\u001b[0m\u001b[0;34m)\u001b[0m\u001b[0;34m\u001b[0m\u001b[0;34m\u001b[0m\u001b[0m\n\u001b[0m\u001b[1;32m   1747\u001b[0m \u001b[0;34m\u001b[0m\u001b[0m\n\u001b[1;32m   1748\u001b[0m         \u001b[0;32mdef\u001b[0m \u001b[0mterminate\u001b[0m\u001b[0;34m(\u001b[0m\u001b[0mself\u001b[0m\u001b[0;34m)\u001b[0m\u001b[0;34m:\u001b[0m\u001b[0;34m\u001b[0m\u001b[0;34m\u001b[0m\u001b[0m\n",
      "\u001b[0;31mPermissionError\u001b[0m: [Errno 1] Operation not permitted"
     ]
    }
   ],
   "source": [
    "VERBOSE = False\n",
    "counter = 0;\n",
    "with open(pklFile, \"wb\") as f:\n",
    "    pkl.dump(listOfTasks, f);\n",
    "for task in listOfTasks:\n",
    "    task.runTask(rerun=False);\n",
    "    task.writeToCSV(csvFileName)\n",
    "    with open(pklFile, \"wb\") as f:\n",
    "        pkl.dump(listOfTasks, f);\n",
    "    clear_output(wait=True)\n",
    "    counter += 1;\n",
    "    print(\"Completed \" + str(counter) + \" of \" + str(len(listOfTasks)))"
   ]
  },
  {
   "cell_type": "code",
   "execution_count": null,
   "metadata": {},
   "outputs": [],
   "source": []
  }
 ],
 "metadata": {
  "kernelspec": {
   "display_name": "Python 3",
   "language": "python",
   "name": "python3"
  },
  "language_info": {
   "codemirror_mode": {
    "name": "ipython",
    "version": 3
   },
   "file_extension": ".py",
   "mimetype": "text/x-python",
   "name": "python",
   "nbconvert_exporter": "python",
   "pygments_lexer": "ipython3",
   "version": "3.7.4"
  }
 },
 "nbformat": 4,
 "nbformat_minor": 2
}
