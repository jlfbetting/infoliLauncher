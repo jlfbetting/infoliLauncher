{
 "cells": [
  {
   "cell_type": "markdown",
   "metadata": {},
   "source": [
    "# Infoli Task Inspector"
   ]
  },
  {
   "cell_type": "code",
   "execution_count": 123,
   "metadata": {},
   "outputs": [],
   "source": [
    "import import_ipynb\n",
    "from infoliLauncher import infoliTask, pklFile\n",
    "import pickle as pkl\n",
    "import numpy as np\n",
    "import matplotlib.pyplot as plt"
   ]
  },
  {
   "cell_type": "markdown",
   "metadata": {},
   "source": [
    "This notebook gives the possibility to inspect the list of tasks saved in the file defined by `pklFile` while the `infoliLauncher` notebook is still running simulations."
   ]
  },
  {
   "cell_type": "code",
   "execution_count": 124,
   "metadata": {},
   "outputs": [],
   "source": [
    "with open(\"myTasklist_2.dat\", \"rb\") as f:\n",
    "    listOfTasks = pkl.load(f)"
   ]
  },
  {
   "cell_type": "code",
   "execution_count": 125,
   "metadata": {},
   "outputs": [
    {
     "data": {
      "text/plain": [
       "{'parameters': {'simTime': 0.003,\n",
       "  'connectivity': 0.7787355458738761,\n",
       "  'neurons': 6877,\n",
       "  'memory': 16384,\n",
       "  'CPU': 16,\n",
       "  'timeout': 14400},\n",
       " 'results': {'hasExecuted': True,\n",
       "  'setupTime': 0.31,\n",
       "  'execTime': 150.49,\n",
       "  'startTime': 1582732195.1106813,\n",
       "  'endTime': 1582732346.876739,\n",
       "  'measureTime': 151.76605772972107,\n",
       "  'hasEndedInTimeout': False,\n",
       "  'hasEndedInError': False}}"
      ]
     },
     "execution_count": 125,
     "metadata": {},
     "output_type": "execute_result"
    }
   ],
   "source": [
    "listOfTasks[4].getData()"
   ]
  },
  {
   "cell_type": "code",
   "execution_count": 120,
   "metadata": {},
   "outputs": [
    {
     "data": {
      "image/png": "[encoded data removed]",
      "text/plain": [
       "<Figure size 432x288 with 1 Axes>"
      ]
     },
     "metadata": {
      "needs_background": "light"
     },
     "output_type": "display_data"
    }
   ],
   "source": [
    "plt.hist([task.getData()['parameters']['neurons'] for task in listOfTasks],bins=np.arange(100)*100);"
   ]
  },
  {
   "cell_type": "code",
   "execution_count": 121,
   "metadata": {},
   "outputs": [
    {
     "data": {
      "image/png": "[encoded data removed]",
      "text/plain": [
       "<Figure size 432x288 with 1 Axes>"
      ]
     },
     "metadata": {
      "needs_background": "light"
     },
     "output_type": "display_data"
    }
   ],
   "source": [
    "plt.hist([task.getData()['parameters']['connectivity'] for task in listOfTasks],bins=np.arange(100)/100);"
   ]
  },
  {
   "cell_type": "code",
   "execution_count": 103,
   "metadata": {},
   "outputs": [
    {
     "data": {
      "text/plain": [
       "[625.24, 1629.7, 1667.6, 1090.64, 522.64, 1342.38, 1352.9, 1090.22, 507.15]"
      ]
     },
     "execution_count": 103,
     "metadata": {},
     "output_type": "execute_result"
    }
   ],
   "source": [
    "[task.getData()['results']['execTime'] for task in listOfTasks if task.getData()['results']['hasExecuted']]"
   ]
  },
  {
   "cell_type": "code",
   "execution_count": null,
   "metadata": {},
   "outputs": [],
   "source": []
  }
 ],
 "metadata": {
  "kernelspec": {
   "display_name": "Python 3",
   "language": "python",
   "name": "python3"
  },
  "language_info": {
   "codemirror_mode": {
    "name": "ipython",
    "version": 3
   },
   "file_extension": ".py",
   "mimetype": "text/x-python",
   "name": "python",
   "nbconvert_exporter": "python",
   "pygments_lexer": "ipython3",
   "version": "3.7.4"
  }
 },
 "nbformat": 4,
 "nbformat_minor": 2
}
