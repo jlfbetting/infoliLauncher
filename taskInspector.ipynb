{
 "cells": [
  {
   "cell_type": "markdown",
   "metadata": {},
   "source": [
    "# Infoli Task Inspector"
   ]
  },
  {
   "cell_type": "code",
   "execution_count": 11,
   "metadata": {},
   "outputs": [],
   "source": [
    "import import_ipynb\n",
    "from infoliLauncher import infoliTask, pklFile\n",
    "import pickle as pkl"
   ]
  },
  {
   "cell_type": "markdown",
   "metadata": {},
   "source": [
    "This notebook gives the possibility to inspect the "
   ]
  },
  {
   "cell_type": "code",
   "execution_count": 12,
   "metadata": {},
   "outputs": [],
   "source": [
    "with open(pklFile, \"rb\") as f:\n",
    "    listOfTasks = pkl.load(f)"
   ]
  },
  {
   "cell_type": "code",
   "execution_count": 16,
   "metadata": {},
   "outputs": [
    {
     "data": {
      "text/plain": [
       "{'parameters': {'simTime': 0.003,\n",
       "  'connectivity': 0.6993484319038994,\n",
       "  'neurons': 8251,\n",
       "  'memory': 4096,\n",
       "  'CPU': 4,\n",
       "  'timeout': 14400},\n",
       " 'results': {'hasExecuted': False,\n",
       "  'setupTime': 0.0,\n",
       "  'execTime': 0.0,\n",
       "  'startTime': 0.0,\n",
       "  'endTime': 0.0,\n",
       "  'measureTime': 0.0,\n",
       "  'hasEndedInTimeout': False,\n",
       "  'hasEndedInError': False}}"
      ]
     },
     "execution_count": 16,
     "metadata": {},
     "output_type": "execute_result"
    }
   ],
   "source": [
    "listOfTasks[1].getData()"
   ]
  },
  {
   "cell_type": "code",
   "execution_count": null,
   "metadata": {},
   "outputs": [],
   "source": []
  }
 ],
 "metadata": {
  "kernelspec": {
   "display_name": "Python 3",
   "language": "python",
   "name": "python3"
  },
  "language_info": {
   "codemirror_mode": {
    "name": "ipython",
    "version": 3
   },
   "file_extension": ".py",
   "mimetype": "text/x-python",
   "name": "python",
   "nbconvert_exporter": "python",
   "pygments_lexer": "ipython3",
   "version": "3.7.4"
  }
 },
 "nbformat": 4,
 "nbformat_minor": 2
}
